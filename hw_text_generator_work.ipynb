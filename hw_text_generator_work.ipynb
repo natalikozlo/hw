{
 "cells": [
  {
   "cell_type": "markdown",
   "metadata": {},
   "source": [
    "Решение состоит из трех этапов:\n",
    "- предобработка текста\n",
    "- сбор статистики\n",
    "- генерация текста"
   ]
  },
  {
   "cell_type": "code",
   "execution_count": null,
   "metadata": {
    "collapsed": true
   },
   "outputs": [],
   "source": [
    "import pickle\n",
    "import sys\n",
    "from collections import defaultdict, Counter\n",
    "import glob\n",
    "import os\n",
    "import getpass\n",
    "import re\n",
    "import string\n",
    "import random"
   ]
  },
  {
   "cell_type": "markdown",
   "metadata": {},
   "source": [
    "\n",
    "\n",
    "Предобработка текста:\n",
    "это делается в классе  PrepareWords.\n",
    "В результате предобработки в поле будет лежать лист из слов.\n",
    "При этом точка, восклицательный знак, вопросительный знак, многоточие обрабатываются как отдельные слова. "
   ]
  },
  {
   "cell_type": "code",
   "execution_count": null,
   "metadata": {
    "collapsed": true
   },
   "outputs": [],
   "source": [
    "class PrepareWords:\n",
    "    def __init__(self):\n",
    "        self.all_words = list()\n",
    "        \n",
    "    def separate_words(self, line):\n",
    "        return re.findall(r\"\\w+|\\!|\\?|\\.\\.\\.|\\.\", line)\n",
    "       \n",
    "    def prepare_text(self, text_path):\n",
    "        with open(text_path) as text_file:\n",
    "            for line in text_file:\n",
    "                for word in self.separate_words(line):\n",
    "                    self.all_words.append(word) "
   ]
  },
  {
   "cell_type": "markdown",
   "metadata": {},
   "source": [
    "Сбор статистики: \n",
    "это делается в классе GetStatistics.\n",
    "На вход подается лист слов, сгенерированный на предыдущем этапе. \n",
    "\n",
    "Дальше идея такая: \n",
    "для реализации марковских цепей, надо уметь выдавать слово: \n",
    "а) по точке, восклицательному и вопросительному знакам, многоточию\n",
    "(тогда за ними всегда будет слово с большой буквы).\n",
    "б) по одному ключу\n",
    "в) по двум ключам\n",
    "\n",
    "Для этого будем использовать коллекции defaultdict и counter для получения статистики. Ключами будут tuple(words_buffer), где words_buffer - \n",
    "это маленький лист, в который будут поступать элементы и удаляться.\n",
    "И он будет очищаться в случае, если встретили точку, какой-то знак, и т.д..\n",
    "\n",
    "Тогда получится, что дефолтному пустому ключу tuple() (когда его очистили) соответствует начало нового предложения, значит, автоматически сгенерируется слово с большой буквы. \n",
    "\n",
    "Поддерживать точку никак дополнительно не придется, т.к. у нее будет своя частота появления. \n",
    "И слова, которые всегда начинаются с большой буквы, вроде местоемений, \n",
    "тоже никак отдельно обрабатывать не придется.\n"
   ]
  },
  {
   "cell_type": "code",
   "execution_count": null,
   "metadata": {
    "collapsed": false,
    "scrolled": true
   },
   "outputs": [],
   "source": [
    "class GetStatistics:\n",
    "    def __init__(self, all_words):\n",
    "        self.all_words = all_words\n",
    "        self.words_buffer = list() \n",
    "        self.markov_chain = defaultdict(Counter)\n",
    "        \n",
    "    def append_word(self, word):\n",
    "        buffer_length = len(self.words_buffer)\n",
    "        if buffer_length == 0:\n",
    "            self.words_buffer.append(word)\n",
    "            key = tuple()\n",
    "            self.markov_chain[key][word] += 1\n",
    "            return\n",
    "        \n",
    "        if buffer_length == 1:\n",
    "            self.words_buffer.append(word)\n",
    "            key = tuple(self.words_buffer[0])\n",
    "            self.markov_chain[key][self.words_buffer[1]] += 1\n",
    "            return\n",
    "\n",
    "        if buffer_length == 2:\n",
    "            self.words_buffer.append(word)\n",
    "            \n",
    "        else:\n",
    "            self.words_buffer.pop(0)\n",
    "            self.words_buffer.append(word)\n",
    "\n",
    "        key_of_one = tuple([self.words_buffer[1]])\n",
    "        self.markov_chain[key_of_one][self.words_buffer[2]] += 1\n",
    "\n",
    "        key_of_two = tuple([self.words_buffer[0], self.words_buffer[1]])\n",
    "        self.markov_chain[key_of_two][self.words_buffer[2]] += 1\n",
    "        \n",
    "        \n",
    "    def get_statistics(self, all_words):\n",
    "        for word in all_words:\n",
    "            self.append_word(word)\n",
    "            if word in [\".\", \"!\", \"...\", \"?\"]:\n",
    "                self.words_buffer = list()\n",
    "        return self"
   ]
  },
  {
   "cell_type": "markdown",
   "metadata": {},
   "source": [
    "Генерация текста: \n",
    "это делается в классе TextGenerator.\n",
    "\n",
    "На вход подается количество параграфов. Количество предложений в параграфе = \n",
    "случайное число от ... до ...\n",
    "\n",
    "Далее генерируется предложение:\n",
    "\n",
    "Выдавать наиболее часто встречающееся слово будем методом most_common(n) из коллекции Counter."
   ]
  },
  {
   "cell_type": "code",
   "execution_count": null,
   "metadata": {
    "collapsed": false
   },
   "outputs": [],
   "source": [
    "class TextGenerator:\n",
    "    def __init__(self, markov_chain):\n",
    "        self.markov_chain = markov_chain\n",
    "        \n",
    "    def gen_by_one(self, word):\n",
    "        key = tuple([word])\n",
    "        if key not in self.markov_chain.keys():\n",
    "            return random.choice(self.markov_chain.keys())[0]\n",
    "        return self.markov_chain[key].most_common(1)[0][0]\n",
    "\n",
    "    def gen_by_two(self, first_word, second_word):\n",
    "        key = tuple([first_word, second_word])\n",
    "        if key not in self.markov_chain.keys():\n",
    "            return random.choice(self.markov_chain.keys())[0]\n",
    "        return self.markov_chain[key].most_common(1)[0][0]\n",
    "\n",
    "    def gen_sentence(self):\n",
    "        sentence = list()\n",
    "        end_sentence = \"\"\n",
    "\n",
    "        words_count = 1\n",
    "        \n",
    "        first_words = self.markov_chain[tuple()]\n",
    "        first_word = random.choice(first_words.most_common(1))[0]\n",
    "        sentence.append(first_word)\n",
    "\n",
    "        second_word = self.gen_by_one(first_word)\n",
    "        if second_word in [\".\", \"!\", \"...\", \"?\"]:\n",
    "            end_sentence = second_word\n",
    "            new_sentence = \" \".join(sentence)\n",
    "            return \"\".join([new_sentence, end_sentence])\n",
    "        else:\n",
    "            sentence.append(second_word)\n",
    "            \n",
    "\n",
    "        words_count += 1\n",
    "        while not words_count >= 15 or second_word in [\".\", \"!\", \"...\", \"?\"]:\n",
    "            new_word = self.gen_by_two(first_word, second_word)\n",
    "            if new_word in [\".\", \"!\", \"...\", \"?\"]:\n",
    "                end_sentence = new_word\n",
    "                break\n",
    "            sentence.append(new_word)\n",
    "            first_word, second_word = second_word, new_word\n",
    "            words_count += 1\n",
    "            if words_count >= 15:\n",
    "                end_sentence = \".\"\n",
    "                break\n",
    "\n",
    "        new_sentence = \" \".join(sentence)\n",
    "        return \"\".join([new_sentence, end_sentence])\n",
    "\n",
    "    def gen_paragraph(self):\n",
    "        paragraph = list()\n",
    "        sentence_count = random.randint(1, 20)\n",
    "        for i in range(sentence_count):\n",
    "            paragraph.append(self.gen_sentence())\n",
    "        paragraph.append(\"\\n\")\n",
    "        return \" \".join(paragraph)\n",
    "\n",
    "    def gen_text(self, par_count):\n",
    "        text = list()\n",
    "        for i in range(par_count):\n",
    "            text.append(self.gen_paragraph())\n",
    "        return \"\".join(text)"
   ]
  },
  {
   "cell_type": "markdown",
   "metadata": {},
   "source": [
    "Приложение:\n",
    "\n",
    "скрипты, которые потребовались для сбора данных из корпуса, подгрузки и т.д."
   ]
  },
  {
   "cell_type": "markdown",
   "metadata": {},
   "source": [
    "Загрузили все в один txt:"
   ]
  },
  {
   "cell_type": "code",
   "execution_count": null,
   "metadata": {
    "collapsed": true
   },
   "outputs": [],
   "source": [
    "os.chdir(\"...\")\n",
    "read_files = glob.glob(\"*.txt\")\n",
    "path = \"...\"\n",
    "with open(path, \"wb\") as outfile:\n",
    "    for f in read_files:\n",
    "        with open(f, \"rb\") as infile:\n",
    "            outfile.write(infile.read())"
   ]
  },
  {
   "cell_type": "markdown",
   "metadata": {},
   "source": [
    "Предобработка текста"
   ]
  },
  {
   "cell_type": "code",
   "execution_count": null,
   "metadata": {
    "collapsed": false
   },
   "outputs": [],
   "source": [
    "read_path = \"...\"\n",
    "prepare_words = PrepareWords()\n",
    "prepare_words.prepare_text(read_path)"
   ]
  },
  {
   "cell_type": "markdown",
   "metadata": {},
   "source": [
    "Записали статистику с помощью pickle"
   ]
  },
  {
   "cell_type": "code",
   "execution_count": null,
   "metadata": {
    "collapsed": true
   },
   "outputs": [],
   "source": [
    "statistics = GetStatistics(prepare_words.all_words)\n",
    "stat = statistics.get_statistics(prepare_words.all_words)\n",
    "\n",
    "pickle_path = \"...\"\n",
    "with open(pickle_path, \"wb\") as pickle_file:\n",
    "    pickle.dump(stat, pickle_file)"
   ]
  },
  {
   "cell_type": "markdown",
   "metadata": {
    "collapsed": true
   },
   "source": [
    "Считали статистику с помощью pickle"
   ]
  },
  {
   "cell_type": "code",
   "execution_count": null,
   "metadata": {
    "collapsed": true
   },
   "outputs": [],
   "source": [
    "with open(pickle_path, \"rb\") as pickle_file:\n",
    "    statistics = pickle.load(pickle_file)"
   ]
  },
  {
   "cell_type": "markdown",
   "metadata": {},
   "source": [
    "Сгенерировали текст"
   ]
  },
  {
   "cell_type": "code",
   "execution_count": null,
   "metadata": {
    "collapsed": false
   },
   "outputs": [],
   "source": [
    "new_text_path = \"...\"\n",
    "text_generator = TextGenerator(statistics.markov_chain)\n",
    "with open(new_text_path, \"w\") as output_file:\n",
    "    output_file.write(text_generator.gen_text(100))"
   ]
  },
  {
   "cell_type": "code",
   "execution_count": null,
   "metadata": {
    "collapsed": false
   },
   "outputs": [],
   "source": [
    "\n"
   ]
  },
  {
   "cell_type": "code",
   "execution_count": null,
   "metadata": {
    "collapsed": false
   },
   "outputs": [],
   "source": []
  },
  {
   "cell_type": "code",
   "execution_count": null,
   "metadata": {
    "collapsed": false
   },
   "outputs": [],
   "source": []
  },
  {
   "cell_type": "code",
   "execution_count": null,
   "metadata": {
    "collapsed": false
   },
   "outputs": [],
   "source": []
  },
  {
   "cell_type": "code",
   "execution_count": null,
   "metadata": {
    "collapsed": true
   },
   "outputs": [],
   "source": []
  }
 ],
 "metadata": {
  "kernelspec": {
   "display_name": "Python 2",
   "language": "python",
   "name": "python2"
  },
  "language_info": {
   "codemirror_mode": {
    "name": "ipython",
    "version": 2
   },
   "file_extension": ".py",
   "mimetype": "text/x-python",
   "name": "python",
   "nbconvert_exporter": "python",
   "pygments_lexer": "ipython2",
   "version": "2.7.10"
  }
 },
 "nbformat": 4,
 "nbformat_minor": 0
}
